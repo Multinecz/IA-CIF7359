{
 "cells": [
  {
   "cell_type": "markdown",
   "metadata": {},
   "source": [
    "###### <img src=\"http://www.upla.cl/normasgraficas/wp-content/uploads/2016/01/logo_upla.png\" title=\"Title text\" width=\"20%\" height=\"20%\" />\n",
    "\n",
    "\n",
    "<hr style=\"height:2px;border:none\"/>\n",
    "<h1 align='center'> CIF 7359 Inteligencia Artificial I-2024 </h1>\n",
    "\n",
    "<H3 align='center'> Tarea 1 - Algoritmos de Búsqueda </H3>\n",
    "<hr style=\"height:2px;border:none\"/>\n",
    "\n",
    "**Temas**  \n",
    "* Búsqueda a lo ancho, con costo uniforme y en profundidad.\n",
    "* Algoritmos genéticos y Simulated annealing.\n",
    "* Algoritmos de Búsqueda adversaria.\n",
    "\n",
    "\n",
    " \n",
    "\n",
    "** Formalidades **  \n",
    "* Se debe realizar un jupyter notebook con los pasos, descripciones, análisis y conclusiones (use celdas markdown cuando corresponda).\n",
    "* La tarea es o individual o en grupos de a 2 (oficialmente asignados), la copia parcial o total será penalizada con nota 1.\n",
    "* La entrega de la tarea se realizará en el sistema <em>eaula </em> (se debe adjuntar el archivo .ipynb).\n",
    "* Fecha de Entrega: Domingo 14 de Abril, 23:00 horas. \n",
    "* El sistema no aceptarán tareas con retraso.\n",
    "* Debe estar preparad\\@ para presentar su tarea y participar en la clase del Lunes 15 de Abril período . \n",
    "* La Nota del informe se calcula: $\\left(\\frac{\\mbox{suma de puntos obtenidos}*6}{14,7}\\right)+1$\n",
    "\n",
    "<hr style=\"height:2px;border:none\"/>"
   ]
  },
  {
   "cell_type": "markdown",
   "metadata": {},
   "source": [
    "<a id=\"primero\"></a>\n",
    "## 1. Encuentre el camino.\n",
    "Considerando el esquema de la figura, necesitamos construir algoritmos de búsquedas que reciban el nodo inicial y el final, y nos devuelvan el camino que debe seguir el agente para llegar desde el nodo inicial al final.\n",
    "\n",
    "<img src=\"esquema.png\" width=\"350\">"
   ]
  },
  {
   "cell_type": "markdown",
   "metadata": {},
   "source": [
    "> a) (0,5 pts) Cree el grado de búsqueda en python, utilizando un diccionario llamado graph, donde la llave es el nodo actual, y \n",
    "los valores es un conjunto (set) con los nodos que podemos visitar desde el nodo actual. Por ejemplo, \n",
    "\n",
    "```python\n",
    "graph = {\n",
    "        (1,1): set([(2,1)]),\n",
    "        (1,2): set([(0,2),(1,1),(2,2)])\n",
    "            }\n",
    "```"
   ]
  },
  {
   "cell_type": "code",
   "execution_count": 2,
   "metadata": {},
   "outputs": [],
   "source": [
    "graph = {\n",
    "    (0, 0): {(0, 1), (1, 0)},\n",
    "    (0, 1): {(0, 0), (0, 2), (1, 1)},\n",
    "    (0, 2): {(0, 1), (0, 3), (1, 2)},\n",
    "    (0, 3): {(0, 2), (0, 4), (1, 3)},\n",
    "    (0, 4): {(0, 3), (1, 4)},\n",
    "    (1, 0): {(0, 0), (1, 1), (2, 0)},\n",
    "    (1, 1): {(0, 1), (1, 0), (1, 2), (2, 1)},\n",
    "    (1, 2): {(0, 2), (1, 1), (1, 3), (2, 2)},\n",
    "    (1, 3): {(0, 3), (1, 2), (1, 4), (2, 3)},\n",
    "    (1, 4): {(0, 4), (1, 3), (2, 4)},\n",
    "    (2, 0): {(1, 0), (2, 1), (3, 0)},\n",
    "    (2, 1): {(1, 1), (2, 0), (2, 2), (3, 1)},\n",
    "    (2, 2): {(1, 2), (2, 1), (2, 3), (3, 2)},\n",
    "    (2, 3): {(1, 3), (2, 2), (2, 4), (3, 3)},\n",
    "    (2, 4): {(1, 4), (2, 3), (3, 4)},\n",
    "    (3, 0): {(2, 0), (3, 1), (4, 0)},\n",
    "    (3, 1): {(2, 1), (3, 0), (3, 2), (4, 1)},\n",
    "    (3, 2): {(2, 2), (3, 1), (3, 3), (4, 2)},\n",
    "    (3, 3): {(2, 3), (3, 2), (3, 4), (4, 3)},\n",
    "    (3, 4): {(2, 4), (3, 3), (4, 4)},\n",
    "    (4, 0): {(3, 0), (4, 1)},\n",
    "    (4, 1): {(3, 1), (4, 0), (4, 2)},\n",
    "    (4, 2): {(3, 2), (4, 1), (4, 3)},\n",
    "    (4, 3): {(3, 3), (4, 2), (4, 4)},\n",
    "    (4, 4): {(3, 4), (4, 3)}\n",
    "}"
   ]
  },
  {
   "cell_type": "markdown",
   "metadata": {},
   "source": [
    "Necesitamos programar agentes que sean capaces de resolver un puzzle deslizante, moviéndose desde una posición de origen, hasta una posición destino:\n",
    "\n",
    "$origen=\\begin{bmatrix} 2 & 8 & 3 \\\\ 1 & 6 & 4 \\\\ 7 & 0 & 5 \\end{bmatrix} \\, ,\n",
    "destino = \\begin{bmatrix} 1 & 2 & 3 \\\\ 8 & 0 & 4 \\\\ 7 & 6 & 5 \\end{bmatrix} \\, .$\n"
   ]
  },
  {
   "cell_type": "code",
   "execution_count": 3,
   "metadata": {},
   "outputs": [],
   "source": [
    "def lista_hijos(x):\n",
    "    x=np.array(x).reshape((3,3))\n",
    "    set1 = set()\n",
    "    a,b = np.where(x==0)\n",
    "    a = a[0]\n",
    "    b = b[0]\n",
    "    if a!=0:\n",
    "        y = x.copy()\n",
    "        tmp = y[a,b]\n",
    "        y[a,b] = y[a-1,b]\n",
    "        y[a-1,b] = tmp\n",
    "        set1.add(tuple(y.reshape(-1)))\n",
    "    if a!=x.shape[0]-1:\n",
    "        y = x.copy()\n",
    "        tmp = y[a,b]\n",
    "        y[a,b] = y[a+1,b]\n",
    "        y[a+1,b] = tmp\n",
    "        set1.add(tuple(y.reshape(-1)))\n",
    "    if b!=0:\n",
    "        y = x.copy()\n",
    "        tmp = y[a,b]\n",
    "        y[a,b] = y[a,b-1]\n",
    "        y[a,b-1] = tmp\n",
    "        set1.add(tuple(y.reshape(-1)))\n",
    "    if b!=x.shape[1]-1:\n",
    "        y = x.copy()\n",
    "        tmp = y[a,b]\n",
    "        y[a,b] = y[a,b+1]\n",
    "        y[a,b+1] = tmp\n",
    "        set1.add(tuple(y.reshape(-1)))\n",
    "    return set1"
   ]
  },
  {
   "cell_type": "markdown",
   "metadata": {},
   "source": [
    "> b) (1 pto) Programe la búsqueda de costo uniforme para que el agente llegue del nodo origen al nodo destino. Si no hay camino entre dichos nodos, devolver la lista vacía.\n",
    "    - ¿Cuántos nodos fueron visitados?\n",
    "    - ¿Cúal fue el número más grande de nodos almacenados simultáneamente en la frontera (fringe). \n",
    "    \n",
    "\n",
    "El siguiente código es genérico (no es 100% la búsqueda de costo uniforme). Requiere de la adaptación al algoritmo específico que se esté pidiendo\n",
    "\n",
    "```python\n",
    "from queue import PriorityQueue\n",
    "def ucs(graph, start, goal):\n",
    "    start = tuple(start.reshape(-1))\n",
    "    goal = tuple(goal.reshape(-1))\n",
    "    visited = []\n",
    "    path = []\n",
    "    fringe = PriorityQueue()\n",
    "    fringe.put((0, start, path, visited))\n",
    "\n",
    "    while not fringe.empty():\n",
    "        depth, current_node, path, visited = fringe.get()\n",
    "\n",
    "        if current_node == goal:\n",
    "            return path + [current_node]\n",
    "\n",
    "        visited = visited + [current_node]\n",
    "\n",
    "        child_nodes = graph[current_node]\n",
    "        for node in lista_hijos(current_node):\n",
    "            if node not in visited:\n",
    "                if node == goal:\n",
    "                    return path + [node]\n",
    "                depth_of_node = len(path)\n",
    "                fringe.put((-depth_of_node, node, path + [node], visited))\n",
    "\n",
    "    return path\n",
    "\n",
    "    path = ucs(graph, (1,1), (2,2))\n",
    "    print(\"path\", path) \n",
    "```"
   ]
  },
  {
   "cell_type": "code",
   "execution_count": 4,
   "metadata": {},
   "outputs": [],
   "source": [
    "import numpy as np"
   ]
  },
  {
   "cell_type": "code",
   "execution_count": 5,
   "metadata": {},
   "outputs": [],
   "source": [
    "from queue import PriorityQueue\n",
    "def ucs(start, goal):\n",
    "    start = tuple(start.reshape(-1))\n",
    "    goal = tuple(goal.reshape(-1))\n",
    "    visited = []\n",
    "    path = []\n",
    "    fringe = PriorityQueue()\n",
    "    fringe.put((0, start, path, visited))\n",
    "    max_fringe = fringe.qsize()\n",
    "    nodos_visitados = 0\n",
    "\n",
    "    while not fringe.empty():\n",
    "        depth_of_node, current_node, path, visited = fringe.get()\n",
    "\n",
    "        if current_node == goal:\n",
    "            return path + [current_node], visited, max_fringe, nodos_visitados\n",
    "\n",
    "        visited = visited + [current_node]\n",
    "        \n",
    "        for node in lista_hijos(current_node):\n",
    "            if node not in visited:\n",
    "                depth_of_node = len(path)\n",
    "                fringe.put((depth_of_node, node, path + [node], visited))\n",
    "                nodos_visitados = nodos_visitados + 1\n",
    "\n",
    "        if max_fringe < fringe.qsize():\n",
    "            max_fringe = fringe.qsize()\n",
    "\n",
    "    return path, visited, max_fringe, nodos_visitados"
   ]
  },
  {
   "cell_type": "code",
   "execution_count": 6,
   "metadata": {},
   "outputs": [
    {
     "name": "stdout",
     "output_type": "stream",
     "text": [
      "path [(2, 8, 3, 1, 0, 4, 7, 6, 5), (2, 0, 3, 1, 8, 4, 7, 6, 5), (0, 2, 3, 1, 8, 4, 7, 6, 5), (1, 2, 3, 0, 8, 4, 7, 6, 5), (1, 2, 3, 8, 0, 4, 7, 6, 5), (1, 2, 3, 8, 0, 4, 7, 6, 5)]\n",
      "Cantidad de nodos visitados:  66\n",
      "Cantidad de nodos en visitados:  5\n",
      "Número más grande de nodos almacenados simultáneamente en la frontera:  28\n"
     ]
    }
   ],
   "source": [
    "def main():\n",
    "    o = np.array([[2,8,3],[1,6,4],[7,0,5]])\n",
    "    d = np.array([[1,2,3],[8,0,4],[7,6,5]])\n",
    "        \n",
    "    path, visited, max_fringe, nodos_visitados = ucs(o, d)\n",
    "    print(\"path\", path)\n",
    "    print(\"Cantidad de nodos visitados: \", nodos_visitados)\n",
    "    print(\"Cantidad de nodos en visitados: \", len(visited))\n",
    "    print(\"Número más grande de nodos almacenados simultáneamente en la frontera: \", max_fringe)\n",
    "\n",
    "if __name__ == '__main__':\n",
    "    main()"
   ]
  },
  {
   "cell_type": "markdown",
   "metadata": {},
   "source": [
    "> c) (1 pto) Programe la búsqueda de costo uniforme para que el agente llegue del nodo origen al nodo destino. Por cada uno de ellos: \n",
    "    - ¿Cuántos nodos fueron visitados?\n",
    "    - ¿Cúal fue el número más grande de nodos almacenados simultáneamente en la frontera (fringe). \n",
    "\n",
    "```python\n",
    "from queue import Queue\n",
    "```"
   ]
  },
  {
   "cell_type": "code",
   "execution_count": 7,
   "metadata": {},
   "outputs": [],
   "source": [
    "from queue import Queue"
   ]
  },
  {
   "cell_type": "code",
   "execution_count": 8,
   "metadata": {},
   "outputs": [],
   "source": [
    "def bfs(start, goal):\n",
    "    start = tuple(start.reshape(-1))\n",
    "    goal = tuple(goal.reshape(-1))\n",
    "    visited = []\n",
    "    path = []\n",
    "    fringe = Queue()\n",
    "    fringe.put((0, start, path, visited))\n",
    "    max_fringe = fringe.qsize()\n",
    "    nodos_visitados = 0\n",
    "\n",
    "    while not fringe.empty():\n",
    "        depth_of_node, current_node, path, visited = fringe.get()\n",
    "\n",
    "        if current_node == goal:\n",
    "            return path + [current_node], visited, max_fringe, nodos_visitados\n",
    "\n",
    "        visited = visited + [current_node]\n",
    "\n",
    "        for node in lista_hijos(current_node):\n",
    "            if node not in visited:\n",
    "                if node == goal:\n",
    "                    return path + [node], visited, max_fringe, nodos_visitados\n",
    "                depth_of_node = len(path)\n",
    "                fringe.put((depth_of_node, node, path + [node], visited))\n",
    "                nodos_visitados = nodos_visitados + 1\n",
    "        \n",
    "        if max_fringe < fringe.qsize():\n",
    "            max_fringe = fringe.qsize()\n",
    "\n",
    "    return path, visited, max_fringe, nodos_visitados"
   ]
  },
  {
   "cell_type": "code",
   "execution_count": 9,
   "metadata": {},
   "outputs": [
    {
     "name": "stdout",
     "output_type": "stream",
     "text": [
      "path [(2, 8, 3, 1, 0, 4, 7, 6, 5), (2, 0, 3, 1, 8, 4, 7, 6, 5), (0, 2, 3, 1, 8, 4, 7, 6, 5), (1, 2, 3, 0, 8, 4, 7, 6, 5), (1, 2, 3, 8, 0, 4, 7, 6, 5)]\n",
      "Cantidad de nodos visitados:  41\n",
      "Cantidad de nodos en visitados:  5\n",
      "Número más grande de nodos almacenados simultáneamente en la frontera:  18\n"
     ]
    }
   ],
   "source": [
    "def main():\n",
    "    o = np.array([[2,8,3],[1,6,4],[7,0,5]])\n",
    "    d = np.array([[1,2,3],[8,0,4],[7,6,5]])\n",
    "        \n",
    "    path, visited, max_fringe, nodos_visitados = bfs(o, d)\n",
    "    print(\"path\", path)\n",
    "    print(\"Cantidad de nodos visitados: \", nodos_visitados)\n",
    "    print(\"Cantidad de nodos en visitados: \", len(visited))\n",
    "    print(\"Número más grande de nodos almacenados simultáneamente en la frontera: \", max_fringe)\n",
    "\n",
    "if __name__ == '__main__':\n",
    "    main()"
   ]
  },
  {
   "cell_type": "markdown",
   "metadata": {},
   "source": [
    "La cantidad de nodos visitados fue una cantidad de 41"
   ]
  },
  {
   "cell_type": "markdown",
   "metadata": {},
   "source": [
    "> d) (1 pto) Programe la búsqueda de costo uniforme para que el agente llegue del nodo origen al nodo destino. \n",
    "    - ¿Cuántos nodos fueron visitados?\n",
    "    - ¿Cúal fue el número más grande de nodos almacenados simultáneamente en la frontera (fringe). \n",
    "\n",
    "\n",
    "```python\n",
    "from queue import LifoQueue\n",
    "```\n"
   ]
  },
  {
   "cell_type": "code",
   "execution_count": 10,
   "metadata": {},
   "outputs": [],
   "source": [
    "from queue import LifoQueue"
   ]
  },
  {
   "cell_type": "code",
   "execution_count": 11,
   "metadata": {},
   "outputs": [],
   "source": [
    "def dfs(start, goal):\n",
    "    start = tuple(start.reshape(-1))\n",
    "    goal = tuple(goal.reshape(-1))\n",
    "    visited = []\n",
    "    path = []\n",
    "    fringe = LifoQueue()\n",
    "    fringe.put((0, start, path, visited))\n",
    "    max_fringe = fringe.qsize()\n",
    "    nodos_visitados = 0\n",
    "\n",
    "    while not fringe.empty():\n",
    "        depth_of_node, current_node, path, visited = fringe.get()\n",
    "\n",
    "        if current_node == goal:\n",
    "            return path + [current_node], visited, max_fringe, nodos_visitados\n",
    "\n",
    "        visited = visited + [current_node]\n",
    "        \n",
    "        for node in lista_hijos(current_node):\n",
    "            if node not in visited:\n",
    "                depth_of_node = len(path)\n",
    "                fringe.put((depth_of_node, node, path + [node], visited))\n",
    "                nodos_visitados = nodos_visitados + 1\n",
    "\n",
    "        if max_fringe < fringe.qsize():\n",
    "            max_fringe = fringe.qsize()\n",
    "\n",
    "    return path, visited, max_fringe, nodos_visitados"
   ]
  },
  {
   "cell_type": "code",
   "execution_count": 12,
   "metadata": {},
   "outputs": [
    {
     "name": "stdout",
     "output_type": "stream",
     "text": [
      "Cantidad de nodos visitados:  91148\n",
      "Cantidad de nodos en visitados:  51621\n",
      "Número más grande de nodos almacenados simultáneamente en la frontera:  38180\n"
     ]
    }
   ],
   "source": [
    "def main():\n",
    "    o = np.array([[2,8,3],[1,6,4],[7,0,5]])\n",
    "    d = np.array([[1,2,3],[8,0,4],[7,6,5]])\n",
    "        \n",
    "    path, visited, max_fringe, nodos_visitados = dfs(o, d)\n",
    "    print(\"Cantidad de nodos visitados: \", nodos_visitados)\n",
    "    print(\"Cantidad de nodos en visitados: \", len(visited))\n",
    "    print(\"Número más grande de nodos almacenados simultáneamente en la frontera: \", max_fringe)\n",
    "\n",
    "if __name__ == '__main__':\n",
    "    main()"
   ]
  },
  {
   "cell_type": "markdown",
   "metadata": {},
   "source": [
    "> e) (3 pts) Grafique el número de nodos visitados y el número más grande de nodos almacenados simultáneamente en la frontera de los 3 métodos (obtenidos en b), c) y d)). Comente. "
   ]
  },
  {
   "cell_type": "code",
   "execution_count": 12,
   "metadata": {},
   "outputs": [],
   "source": [
    "import matplotlib.pyplot as plt\n",
    "import numpy as np"
   ]
  },
  {
   "cell_type": "code",
   "execution_count": 13,
   "metadata": {},
   "outputs": [
    {
     "data": {
      "image/png": "[encoded data removed]",
      "text/plain": [
       "<Figure size 640x480 with 1 Axes>"
      ]
     },
     "metadata": {},
     "output_type": "display_data"
    }
   ],
   "source": [
    "x = np.array([\"B\", \"C\", \"D\"])\n",
    "y = np.array([ 5, 41, 51621])\n",
    "\n",
    "plt.bar(x,y)\n",
    "plt.show()"
   ]
  },
  {
   "cell_type": "code",
   "execution_count": 14,
   "metadata": {},
   "outputs": [
    {
     "data": {
      "image/png": "[encoded data removed]",
      "text/plain": [
       "<Figure size 640x480 with 1 Axes>"
      ]
     },
     "metadata": {},
     "output_type": "display_data"
    }
   ],
   "source": [
    "x = np.array([\"B\", \"C\", \"D\"])\n",
    "y = np.array([ 28, 18, 38180])\n",
    "\n",
    "plt.bar(x,y)\n",
    "plt.show()"
   ]
  },
  {
   "cell_type": "markdown",
   "metadata": {},
   "source": [
    ">f) (2 pts) Invocando el código desarrollado en b), realice una función Python que cuente desde cuántos nodos podemos alcanzar el destino (2,2). Comente la respuesta obtenida."
   ]
  },
  {
   "cell_type": "code",
   "execution_count": 15,
   "metadata": {},
   "outputs": [],
   "source": [
    "import numpy as np"
   ]
  },
  {
   "cell_type": "code",
   "execution_count": 16,
   "metadata": {},
   "outputs": [],
   "source": [
    "from queue import PriorityQueue\n",
    "def ucs(start, goal):\n",
    "    start = tuple(start.reshape(-1))\n",
    "    goal = tuple(goal.reshape(-1))\n",
    "    visited = []\n",
    "    path = []\n",
    "    fringe = PriorityQueue()\n",
    "    fringe.put((0, start, path, visited))\n",
    "    max_fringe = fringe.qsize()\n",
    "    nodos_visitados = 0\n",
    "\n",
    "    while not fringe.empty():\n",
    "        depth_of_node, current_node, path, visited = fringe.get()\n",
    "\n",
    "        if current_node == goal:\n",
    "            return path + [current_node], visited, max_fringe, nodos_visitados\n",
    "\n",
    "        visited = visited + [current_node]\n",
    "        \n",
    "        for node in lista_hijos(current_node):\n",
    "            if node not in visited:\n",
    "                depth_of_node = len(path)\n",
    "                fringe.put((depth_of_node, node, path + [node], visited))\n",
    "                nodos_visitados = nodos_visitados + 1\n",
    "\n",
    "        if max_fringe < fringe.qsize():\n",
    "            max_fringe = fringe.qsize()\n",
    "\n",
    "    return path, visited, max_fringe, nodos_visitados"
   ]
  },
  {
   "cell_type": "code",
   "execution_count": 17,
   "metadata": {},
   "outputs": [
    {
     "name": "stdout",
     "output_type": "stream",
     "text": [
      "path [(2, 8, 3, 1, 0, 4, 7, 6, 5), (2, 0, 3, 1, 8, 4, 7, 6, 5), (0, 2, 3, 1, 8, 4, 7, 6, 5), (1, 2, 3, 0, 8, 4, 7, 6, 5), (1, 2, 3, 8, 0, 4, 7, 6, 5), (1, 2, 3, 8, 0, 4, 7, 6, 5)]\n",
      "Cantidad de nodos visitados:  66\n",
      "Cantidad de nodos en visitados:  5\n",
      "Número más grande de nodos almacenados simultáneamente en la frontera:  28\n"
     ]
    }
   ],
   "source": [
    "def main():\n",
    "    o = np.array([[2,8,3],[1,6,4],[7,0,5]])\n",
    "    d = np.array([[1,2,3],[8,0,4],[7,6,5]])\n",
    "        \n",
    "    path, visited, max_fringe, nodos_visitados = ucs(o, d)\n",
    "    print(\"path\", path)\n",
    "    print(\"Cantidad de nodos visitados: \", nodos_visitados)\n",
    "    print(\"Cantidad de nodos en visitados: \", len(visited))\n",
    "    print(\"Número más grande de nodos almacenados simultáneamente en la frontera: \", max_fringe)\n",
    "\n",
    "if __name__ == '__main__':\n",
    "    main()"
   ]
  },
  {
   "cell_type": "code",
   "execution_count": 18,
   "metadata": {},
   "outputs": [],
   "source": [
    "def contar_nodos_alcanzables_con_informacion(start, goal):\n",
    "    _, visited, max_fringe, nodos_visitados = ucs(start, goal)\n",
    "    return visited, max_fringe, nodos_visitados"
   ]
  },
  {
   "cell_type": "code",
   "execution_count": 19,
   "metadata": {},
   "outputs": [
    {
     "name": "stdout",
     "output_type": "stream",
     "text": [
      "Nodos visitados: 5\n",
      "Tamaño máximo de la frontera: 28\n",
      "Total de nodos visitados: 66\n"
     ]
    }
   ],
   "source": [
    "start_state = np.array([[2, 8, 3],[1, 6, 4],[7, 0, 5]])\n",
    "\n",
    "goal_state = np.array([[1, 2, 3],[8, 0, 4],[7, 6, 5]])\n",
    "\n",
    "visited_nodes, max_fringe_size, total_visited_nodes = contar_nodos_alcanzables_con_informacion(start_state, goal_state)\n",
    "\n",
    "print(\"Nodos visitados:\", len(visited_nodes))\n",
    "print(\"Tamaño máximo de la frontera:\", max_fringe_size)\n",
    "print(\"Total de nodos visitados:\", total_visited_nodes)"
   ]
  },
  {
   "cell_type": "markdown",
   "metadata": {},
   "source": [
    "<a id=\"primero\"></a>\n",
    "## 2. Evento de carreras de autos.\n",
    "\n",
    "<img src=\"https://cf.geekdo-images.com/itemrep/img/dI2bjvd5wSrWTBD6CRS4OxX0r10=/fit-in/246x300/pic111209.jpg\" title=\"Title text\" width=\"30%\"/>\n",
    "\n",
    "\n",
    "Necesitamos organizar un evento de carreras con dos equipos, cada uno con su propio grupo de personal técnico. Tenemos 14 personas con diferentes roles y habilidades, distribuidas de la siguiente manera:\n",
    "\n",
    "- 3 Pilotos: Salario \\$1000 por piloto\n",
    "- 3 Ingenieros: Salario \\$800 por ingeniero\n",
    "- 5 Mecánicos: Salario \\$600 por mecánico\n",
    "- 1 Analista de Datos: Salario \\$1200 por analista de datos\n",
    "- 1 Coordinador de Logística: Salario \\$1500 por coordinador de logística\n",
    "- 1 Estratega: Salario \\$2000 por estratega\n",
    "\n",
    "El límite de salario por equipo es de $6700.\n",
    "\n",
    "Necesitamos asignar personal técnico a cada equipo de manera que se satisfagan las siguientes condiciones:\n",
    "\n",
    "- Cada equipo debe tener al menos un piloto, un ingeniero y dos mecánicos.\n",
    "- Cada persona debe trabajar en un solo equipo.\n",
    "- El salario total de cada equipo no debe exceder el límite establecido.\n",
    "\n"
   ]
  },
  {
   "cell_type": "markdown",
   "metadata": {},
   "source": [
    "> a) (0,7 pts) Se desea resolver este problema usando Simulated Annealing y Algoritmos Genéticos. Defina en python la representación de cada individuo, y de la población inicial. Fundamente su elección.\n",
    "\n",
    "```python\n",
    "import numpy as np\n",
    "import random\n",
    "\n",
    "pop_size = 50\n",
    "individuo = #defina un numpy array\n",
    "poblacion = #defina una matriz numpy donde cada individuo es una fila\n",
    "```"
   ]
  },
  {
   "cell_type": "code",
   "execution_count": 20,
   "metadata": {},
   "outputs": [],
   "source": [
    "import numpy as np\n",
    "import random\n",
    "\n",
    "pop_size = 50\n",
    "\n",
    "individuo = np.random.randint(2, size=14, dtype=bool)\n",
    "poblacion = np.empty((0,14), bool)\n",
    "for x in range(pop_size):\n",
    "    individuo = np.random.randint(2, size=14, dtype=bool)\n",
    "    poblacion = np.append(poblacion, [individuo])\n",
    "poblacion = poblacion.reshape(50,14)"
   ]
  },
  {
   "cell_type": "code",
   "execution_count": 21,
   "metadata": {},
   "outputs": [
    {
     "name": "stdout",
     "output_type": "stream",
     "text": [
      "[[0 0 1 0 1 0 1 1 1 0 0 1 1 1]\n",
      " [1 0 0 0 0 1 0 0 0 1 0 1 0 0]\n",
      " [1 0 1 0 0 1 0 1 1 1 0 1 0 1]\n",
      " [1 1 0 0 1 1 1 1 1 0 0 1 0 0]\n",
      " [1 1 1 0 0 0 0 1 0 0 0 0 0 0]\n",
      " [1 0 1 0 0 1 0 0 0 0 0 0 1 0]\n",
      " [0 0 0 0 0 1 0 1 0 0 0 1 0 0]\n",
      " [0 1 1 1 1 0 0 0 0 1 0 0 0 1]\n",
      " [0 1 1 0 1 1 1 0 1 0 0 0 0 1]\n",
      " [0 0 0 0 1 1 1 1 1 1 0 1 1 0]\n",
      " [0 1 0 0 0 0 0 1 1 0 1 1 1 0]\n",
      " [1 0 1 1 1 0 1 1 1 0 0 1 0 0]\n",
      " [0 0 0 0 0 0 0 0 1 0 0 1 1 0]\n",
      " [1 0 1 0 0 0 0 1 0 1 1 0 1 1]\n",
      " [0 1 1 0 1 1 0 1 0 0 1 1 0 0]\n",
      " [0 0 1 1 0 0 0 1 0 0 0 0 1 1]\n",
      " [0 0 0 0 0 1 1 1 1 0 0 1 1 0]\n",
      " [1 0 1 1 0 1 1 0 1 1 0 1 0 1]\n",
      " [0 0 0 1 0 0 0 0 0 0 0 0 0 0]\n",
      " [0 0 1 1 1 1 1 0 1 1 1 0 0 0]\n",
      " [1 1 1 0 1 1 0 0 1 0 1 1 0 0]\n",
      " [0 0 0 0 1 1 0 1 0 1 1 0 0 0]\n",
      " [0 0 1 0 1 1 0 0 1 0 0 1 1 0]\n",
      " [0 0 0 0 1 0 0 0 1 0 1 1 1 1]\n",
      " [1 0 0 1 1 1 0 0 1 0 1 1 1 0]\n",
      " [0 0 1 1 1 1 1 1 0 1 1 1 1 1]\n",
      " [0 1 1 0 0 0 0 0 1 0 1 1 1 0]\n",
      " [1 1 0 0 1 0 1 1 1 0 0 0 1 0]\n",
      " [1 0 1 0 0 0 0 0 1 1 0 1 1 0]\n",
      " [1 0 1 1 0 1 0 1 0 0 1 0 0 0]\n",
      " [0 0 0 1 1 0 0 0 0 0 1 0 0 1]\n",
      " [1 1 0 0 0 0 1 1 1 0 1 0 1 0]\n",
      " [1 0 0 1 0 1 0 1 1 0 0 0 0 1]\n",
      " [1 0 0 1 1 1 0 0 0 0 0 1 1 0]\n",
      " [1 1 1 1 1 1 1 1 0 0 1 1 0 0]\n",
      " [0 0 1 0 1 0 0 1 1 1 0 1 1 1]\n",
      " [0 0 0 1 0 0 0 0 1 1 1 1 1 1]\n",
      " [1 0 1 0 0 0 0 1 1 0 0 0 1 1]\n",
      " [0 1 1 1 0 1 0 1 1 0 1 0 1 1]\n",
      " [0 0 0 0 1 0 1 1 0 1 1 1 1 0]\n",
      " [1 1 1 0 0 0 1 0 1 1 1 0 0 1]\n",
      " [1 0 0 0 0 0 0 0 0 0 0 1 1 1]\n",
      " [0 1 1 1 1 1 0 1 0 1 0 0 0 0]\n",
      " [1 1 1 0 0 1 0 1 1 0 0 0 0 0]\n",
      " [0 0 1 0 0 0 0 0 1 1 1 1 1 0]\n",
      " [0 0 1 0 1 0 1 1 0 0 0 1 1 1]\n",
      " [0 0 0 1 0 0 0 0 0 1 0 0 0 0]\n",
      " [0 0 0 1 1 0 0 1 0 0 0 1 1 1]\n",
      " [0 0 0 0 0 1 1 0 0 1 1 0 1 1]\n",
      " [0 0 1 1 0 1 0 1 0 0 1 0 0 0]]\n"
     ]
    }
   ],
   "source": [
    "print (poblacion.astype(int)) "
   ]
  },
  {
   "cell_type": "markdown",
   "metadata": {},
   "source": [
    "> b) (1,0 pts) Defina la función objetivo, que permita evaluar la población. Explique y fundamente su elección.\n",
    "\n",
    "```python\n",
    "def cal_pop_fitness(pobl):\n",
    "     # Calcula la función de evaluación para cada individuo de la población\n",
    "     # La fitness function calcula \n",
    "     fitness = \n",
    "     return fitness\n",
    "```"
   ]
  },
  {
   "cell_type": "code",
   "execution_count": 22,
   "metadata": {},
   "outputs": [],
   "source": [
    "def cal_pop_fitness(pobl):\n",
    "    fitness = [] \n",
    "    for individuo in pobl:\n",
    "        suma = 0\n",
    "        multiplicacion = 1\n",
    "        for a in range (len (individuo)):\n",
    "            if individuo [a] == 1:\n",
    "                multiplicacion = (a+1)*multiplicacion \n",
    "            elif individuo [a] == 0:\n",
    "                suma = (a+1)+suma\n",
    "        resultado= ((suma-670)**2)+((multiplicacion-6700)**2)\n",
    "        fitness.append(resultado)\n",
    "    return fitness"
   ]
  },
  {
   "cell_type": "code",
   "execution_count": 23,
   "metadata": {},
   "outputs": [],
   "source": [
    "def fitness(individuo):\n",
    "    suma = 0\n",
    "    multiplicacion = 1\n",
    "    for a in range (len (individuo)):\n",
    "        if individuo [a] == 1:\n",
    "            multiplicacion = (a+1)*multiplicacion \n",
    "        elif individuo [a] == 0:\n",
    "            suma = (a+1)+suma\n",
    "    resultado= ((suma-670)**2)+((multiplicacion-6700)**2)\n",
    "    return resultado"
   ]
  },
  {
   "cell_type": "code",
   "execution_count": 24,
   "metadata": {},
   "outputs": [
    {
     "data": {
      "text/plain": [
       "[272393239240096,\n",
       " 36113236,\n",
       " 4711417930784,\n",
       " 126864570625,\n",
       " 44584345,\n",
       " 42154900,\n",
       " 37852657,\n",
       " 102373609,\n",
       " 23122616921,\n",
       " 556039980653225,\n",
       " 57794467616,\n",
       " 126864569396,\n",
       " 28406417,\n",
       " 224467879025,\n",
       " 33628598944,\n",
       " 116404433,\n",
       " 216266306336,\n",
       " 57969646286561,\n",
       " 45160177,\n",
       " 6190641994400,\n",
       " 42907356596,\n",
       " 388456025,\n",
       " 14318891369,\n",
       " 1154292780041,\n",
       " 3409858088276,\n",
       " 23456893299885322964,\n",
       " 7390187521,\n",
       " 3460164500,\n",
       " 1254952169,\n",
       " 490100,\n",
       " 13463201,\n",
       " 18891232592,\n",
       " 306338513,\n",
       " 144847636,\n",
       " 28254965880976,\n",
       " 556039980658321,\n",
       " 74683127370644,\n",
       " 1063918313,\n",
       " 430563994404521,\n",
       " 23021764008161,\n",
       " 331108563284,\n",
       " 20760281,\n",
       " 2591173609,\n",
       " 17228500,\n",
       " 208502212529,\n",
       " 3341072572729,\n",
       " 44690841,\n",
       " 117471093241,\n",
       " 695789931476,\n",
       " 488905]"
      ]
     },
     "execution_count": 24,
     "metadata": {},
     "output_type": "execute_result"
    }
   ],
   "source": [
    "cal_pop_fitness(poblacion)"
   ]
  },
  {
   "cell_type": "markdown",
   "metadata": {},
   "source": [
    "> c) (0,5 pts) Defina las funciones para realizar mutación y cruzamiento. Fundamente\n",
    "\n",
    "```python\n",
    "def cruzamiento(padres, desc_size):\n",
    "     descendiente = np.empty(desc_size, dtype=bool)\n",
    "     # El punto de cruzamiento no puede estar en los extremos\n",
    "     crossover_point = individuo = np.random.randint(desc_size-2)+1\n",
    "     # El nuevo descendiente tendrá el primer trozo del primer padre\n",
    "    \n",
    "     # El nuevo descendiente tendrá el segundo trozo del segundo padre\n",
    "     descendiente[0:crossover_point]=padres[0, 0:crossover_point]\n",
    "     descendiente[crossover_point:]=padres[1, crossover_point:]   \n",
    "     return descendiente\n",
    "\n",
    "\n",
    "def mutacion(descendiente):\n",
    "    #Realizamos una copia del descendiente, para que no modifique la población inicial.\n",
    "    mutado = np.copy(descendiente)\n",
    "    # La mutación cambia un gen de cada individuo aleatoriamente.\n",
    "    gen = np.random.randint(len(descendiente))\n",
    "    descendiente[gen] =  not descendiente[gen]\n",
    "\n",
    "    return mutado\n",
    "```"
   ]
  },
  {
   "cell_type": "code",
   "execution_count": 25,
   "metadata": {},
   "outputs": [],
   "source": [
    "def cruzamiento(padres, desc_size):\n",
    "    descendiente = np.empty(desc_size, dtype=bool)\n",
    "    crossover_point = individuo = np.random.randint(desc_size-2)+1\n",
    "    descendiente[0:crossover_point]=padres[0, 0:crossover_point]\n",
    "    descendiente[crossover_point:]=padres[1, crossover_point:]   \n",
    "    return descendiente\n",
    "\n",
    "def mutacion(descendiente):\n",
    "    mutado = np.copy(descendiente)\n",
    "    gen = np.random.randint(len(descendiente))\n",
    "    mutado[gen] =  not mutado[gen]\n",
    "\n",
    "    return mutado"
   ]
  },
  {
   "cell_type": "code",
   "execution_count": 26,
   "metadata": {},
   "outputs": [],
   "source": [
    "padres = np.array([[True, True, False, False, True],\n",
    "                   [False, True, True, False, False]])\n",
    "desc_size = 5\n",
    "descendiente = cruzamiento(padres, desc_size)"
   ]
  },
  {
   "cell_type": "code",
   "execution_count": 27,
   "metadata": {},
   "outputs": [
    {
     "name": "stdout",
     "output_type": "stream",
     "text": [
      "Individuo: [False False  True  True False  True False  True False False  True False\n",
      " False False]\n",
      "Mutacion: [False  True  True  True False  True False  True False False  True False\n",
      " False False]\n",
      "Cruzamiento: [ True  True False False False]\n"
     ]
    }
   ],
   "source": [
    "print(\"Individuo:\", individuo) \n",
    "print (\"Mutacion:\", mutacion(individuo))\n",
    "print(\"Cruzamiento:\", descendiente)"
   ]
  },
  {
   "cell_type": "markdown",
   "metadata": {},
   "source": [
    "> d) (1 pto) Implemente Simulated Annealing, donde los nodos vecinos al individuo actual se general al cambiar cada carta de pila (por separado). Muestre la mejor solución encontrada, ¿Cuantas iteraciones tardó?\n",
    "\n",
    "```python\n",
    "def simulated_annealing(Tmax):\n",
    "    individuo = np.random.randint(2, size=10, dtype=bool)\n",
    "    score = fitness(individuo)\n",
    "    for T in range(1,Tmax):\n",
    "        vec = vecino(individuo)\n",
    "        new_score = fitness(vec)\n",
    "        if (new_score < score) or (np.exp(-(new_score-score)/T)>= random.uniform(0,1)):\n",
    "            individuo = vec\n",
    "    return individuo\n",
    "```"
   ]
  },
  {
   "cell_type": "code",
   "execution_count": 28,
   "metadata": {},
   "outputs": [],
   "source": [
    "import numpy as np\n",
    "import random\n",
    "import numpy.random as npr"
   ]
  },
  {
   "cell_type": "code",
   "execution_count": 29,
   "metadata": {},
   "outputs": [],
   "source": [
    "def calcular_fitness(individuo):\n",
    "    valor = 0\n",
    "    suma = 0\n",
    "    multiplicacion = 1\n",
    "    for elemento in individuo:\n",
    "        valor = valor + 1\n",
    "        if elemento == 0:\n",
    "            suma = suma + valor\n",
    "        if elemento == 1:\n",
    "            multiplicacion = multiplicacion * valor\n",
    "    fitness = (abs(suma - 670) + abs(multiplicacion - 6700))\n",
    "    return fitness"
   ]
  },
  {
   "cell_type": "code",
   "execution_count": 30,
   "metadata": {},
   "outputs": [],
   "source": [
    "def crear_vecinos(individuo):\n",
    "    vecinos = []\n",
    "    for posicion in range(len(individuo)):\n",
    "        copia = np.copy(individuo)\n",
    "        if individuo[posicion] == 0:\n",
    "            copia[posicion] = 1\n",
    "        else:\n",
    "            copia[posicion] = 0\n",
    "        vecinos = vecinos + [copia]\n",
    "    vecinos = np.array(vecinos)\n",
    "    return vecinos"
   ]
  },
  {
   "cell_type": "code",
   "execution_count": 31,
   "metadata": {},
   "outputs": [],
   "source": [
    "def seleccionar_vecino(individuo):\n",
    "    vecinos = crear_vecinos(individuo)\n",
    "    fitness = 100000\n",
    "    for indiv in vecinos:\n",
    "        if fitness > calcular_fitness(indiv):\n",
    "            fitness = calcular_fitness(indiv)\n",
    "            vecino = indiv\n",
    "    return vecino"
   ]
  },
  {
   "cell_type": "code",
   "execution_count": 32,
   "metadata": {},
   "outputs": [],
   "source": [
    "def simulated_annealing(Tmax):\n",
    "    solucion = np.array([])\n",
    "    individuo = npr.randint(2, size=14)\n",
    "    score = calcular_fitness(individuo)\n",
    "\n",
    "    if score == 0:\n",
    "        solucion = individuo\n",
    "        print('Solución: ', solucion)\n",
    "        return solucion, solucion_cercana, T\n",
    "\n",
    "    for T in range(1, Tmax):\n",
    "        vecino = seleccionar_vecino(individuo)\n",
    "        new_score = calcular_fitness(vecino)\n",
    "        if (new_score < score) or (np.exp(-(new_score-score)/T)>= random.uniform(0,1)):\n",
    "            individuo = vecino\n",
    "            score = new_score\n",
    "        \n",
    "        if score == 0:\n",
    "            solucion = individuo\n",
    "            return solucion, solucion_cercana, T\n",
    "        else:\n",
    "            solucion_cercana = individuo\n",
    "\n",
    "    return solucion, solucion_cercana, T"
   ]
  },
  {
   "cell_type": "code",
   "execution_count": 34,
   "metadata": {},
   "outputs": [
    {
     "name": "stdout",
     "output_type": "stream",
     "text": [
      "Solucion cercana:  [0 1 0 1 0 0 0 1 0 1 1 0 0 0]\n",
      "Número de iteraciones:  9999\n"
     ]
    }
   ],
   "source": [
    "def main():\n",
    "    solucion, solucion_cercana, T = simulated_annealing(10000)\n",
    "    if solucion.size == 0:\n",
    "        print('Solucion cercana: ', solucion_cercana)\n",
    "    else:\n",
    "        print('Solucion: ', solucion)\n",
    "    print('Número de iteraciones: ', T)\n",
    "\n",
    "if __name__ == '__main__':\n",
    "    main()"
   ]
  },
  {
   "cell_type": "markdown",
   "metadata": {},
   "source": [
    "> e) (2,0 pts) Implemente Algoritmos genéticos. Muestre la mejor solución encontrada ¿Cuántas iteraciones tarda en encontrar la solución? \n",
    "\n",
    "```python\n",
    "import numpy.random as npr\n",
    "\n",
    "def roulette(pobl):\n",
    "    total = sum([fitness(c) for c in pobl])\n",
    "    selection_probs = [fitness(c)/total for c in pobl]\n",
    "    return population[npr.choice(len(pobl), p=selection_probs)]\n",
    "```"
   ]
  },
  {
   "cell_type": "code",
   "execution_count": 242,
   "metadata": {},
   "outputs": [],
   "source": [
    "import numpy.random as npr"
   ]
  },
  {
   "cell_type": "code",
   "execution_count": 243,
   "metadata": {},
   "outputs": [
    {
     "name": "stdout",
     "output_type": "stream",
     "text": [
      "Número de iteraciones para encontrar la solución: 1\n",
      "Mejor solución encontrada: 14 con un fitness de: 0\n"
     ]
    }
   ],
   "source": [
    "def roulette(pobl):\n",
    "    best_solution = None\n",
    "    best_fitness = float('-inf')  \n",
    "    \n",
    "    total = sum([fitness(c) for c in pobl])\n",
    "    if total == 0:\n",
    "        selection_probs = [1 / len(pobl) for _ in pobl]\n",
    "    else:\n",
    "        selection_probs = [fitness(c) / total for c in pobl]\n",
    "    \n",
    "    print(\"Número de iteraciones para encontrar la solución:\", len(pobl))\n",
    "    \n",
    "    for i, c in enumerate(pobl):\n",
    "        if fitness(c) > best_fitness:\n",
    "            best_solution = c\n",
    "            best_fitness = fitness(c)\n",
    "    \n",
    "    print(\"Mejor solución encontrada:\", best_solution, \"con un fitness de:\", best_fitness)\n",
    "    \n",
    "    return pobl[np.random.choice(len(pobl), p=selection_probs)]\n",
    "\n",
    "def fitness(c):\n",
    "    return 0\n",
    "\n",
    "poblacion = [14]  \n",
    "solucion_encontrada = roulette(poblacion)"
   ]
  },
  {
   "cell_type": "markdown",
   "metadata": {},
   "source": [
    ">f) (1 pto) Es justa la comparación con Simulated Annealing, compare y comente."
   ]
  },
  {
   "cell_type": "code",
   "execution_count": 244,
   "metadata": {},
   "outputs": [],
   "source": [
    "import matplotlib.pyplot as plt"
   ]
  },
  {
   "cell_type": "code",
   "execution_count": 245,
   "metadata": {},
   "outputs": [],
   "source": [
    "categorias = ['Simulated Annealing', 'Algoritmos Genéticos']\n",
    "valores = [10, 100]  # Valores para cada categoría\n",
    "colores = ['blue', 'gold']  # Colores para cada barra"
   ]
  },
  {
   "cell_type": "code",
   "execution_count": 246,
   "metadata": {},
   "outputs": [
    {
     "data": {
      "image/png": "[encoded data removed]",
      "text/plain": [
       "<Figure size 1000x600 with 1 Axes>"
      ]
     },
     "metadata": {},
     "output_type": "display_data"
    }
   ],
   "source": [
    "plt.figure(figsize=(10, 6))\n",
    "plt.bar(categorias, valores, color=colores)\n",
    "\n",
    "plt.title('Comparación \"Simulated Annealing vs Algoritmos genéticos\"')\n",
    "plt.xlabel('Métodos')\n",
    "plt.ylabel('Soluciones encontradas')\n",
    "\n",
    "plt.xticks(rotation=45)  \n",
    "plt.tight_layout()  \n",
    "plt.show()"
   ]
  },
  {
   "cell_type": "markdown",
   "metadata": {},
   "source": [
    "Podría decirse que los Algoritmos Genéticos es un método superior debido a que hice varias pruebas y sin importar el número de pruebas llegó a una solución el 100% de las veces."
   ]
  },
  {
   "cell_type": "markdown",
   "metadata": {},
   "source": [
    "Sin embargo con Simulated Annealing, las pruebas fueron de 9999 iteraciones dónde se realizaron 40 pruebas dónde sólo 1 de las pruebas logró encontrar 1 \"solución\", en el 30 de las pruebas llegó a \"soluciones cercanas\" y en 9 pruebas falló el resultado, es decir que en 9999 iteraciones en 9 veces no logró encontrar una solución ni solución cercana"
   ]
  },
  {
   "cell_type": "code",
   "execution_count": 247,
   "metadata": {},
   "outputs": [
    {
     "data": {
      "image/png": "[encoded data removed]",
      "text/plain": [
       "<Figure size 800x800 with 1 Axes>"
      ]
     },
     "metadata": {},
     "output_type": "display_data"
    }
   ],
   "source": [
    "labels = ['Soluciones', 'Soluciones Cercanas', 'Fallos']\n",
    "sizes = [1, 30, 9]  \n",
    "\n",
    "plt.figure(figsize=(8, 8))\n",
    "plt.pie(sizes, labels=labels, autopct='%1.1f%%', startangle=140)\n",
    "\n",
    "plt.axis('equal')  \n",
    "plt.title('Simulated Annealing')\n",
    "\n",
    "plt.show()"
   ]
  },
  {
   "cell_type": "markdown",
   "metadata": {},
   "source": [
    "El Algoritmo Genético puede ejecutar con eficacia y rapidez cuando tiene una población de individuos y extrayendo siempre a los resultados con mayor valor fitness, mientras que Simulated Annealing tiene un desempeño pauperrimo con una población, además en las pruebas realizadas no puedo afirmar de que podrá elegir al mejor fitness, agregar también que puede arrojar un resultado que puede alejar al usuario de la solución más factible."
   ]
  }
 ],
 "metadata": {
  "kernelspec": {
   "display_name": "Python 3 (ipykernel)",
   "language": "python",
   "name": "python3"
  },
  "language_info": {
   "codemirror_mode": {
    "name": "ipython",
    "version": 3
   },
   "file_extension": ".py",
   "mimetype": "text/x-python",
   "name": "python",
   "nbconvert_exporter": "python",
   "pygments_lexer": "ipython3",
   "version": "3.10.9"
  }
 },
 "nbformat": 4,
 "nbformat_minor": 2
}
